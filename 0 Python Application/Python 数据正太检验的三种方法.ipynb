{
 "cells": [
  {
   "cell_type": "code",
   "execution_count": 11,
   "metadata": {},
   "outputs": [],
   "source": [
    "import numpy as np\n",
    "import pandas as pd\n",
    "import matplotlib.pyplot as plt\n",
    "from scipy.stats import kstest\n",
    "from datetime import datetime\n",
    "import random\n",
    "%matplotlib inline"
   ]
  },
  {
   "cell_type": "code",
   "execution_count": 26,
   "metadata": {},
   "outputs": [
    {
     "data": {
      "text/plain": [
       "0    -2.552990\n",
       "1    -1.980796\n",
       "2    -1.726283\n",
       "3    -1.706270\n",
       "4    -1.630198\n",
       "5    -1.613898\n",
       "6    -1.536244\n",
       "7    -1.454366\n",
       "8    -1.420018\n",
       "9    -1.252795\n",
       "10   -1.234826\n",
       "11   -1.180632\n",
       "12   -1.165150\n",
       "13   -1.070753\n",
       "14   -1.048553\n",
       "15   -0.977278\n",
       "16   -0.907298\n",
       "17   -0.895467\n",
       "18   -0.887786\n",
       "19   -0.870797\n",
       "20   -0.854096\n",
       "21   -0.813146\n",
       "22   -0.742165\n",
       "23   -0.684810\n",
       "24   -0.672460\n",
       "25   -0.634322\n",
       "26   -0.578850\n",
       "27   -0.510805\n",
       "28   -0.509652\n",
       "29   -0.438074\n",
       "        ...   \n",
       "70    0.462782\n",
       "71    0.465662\n",
       "72    0.653619\n",
       "73    0.706573\n",
       "74    0.729091\n",
       "75    0.761038\n",
       "76    0.777490\n",
       "77    0.864436\n",
       "78    0.900826\n",
       "79    0.950088\n",
       "80    0.976639\n",
       "81    0.978738\n",
       "82    1.054452\n",
       "83    1.139401\n",
       "84    1.178780\n",
       "85    1.202380\n",
       "86    1.222445\n",
       "87    1.230291\n",
       "88    1.454274\n",
       "89    1.469359\n",
       "90    1.488252\n",
       "91    1.494079\n",
       "92    1.532779\n",
       "93    1.764052\n",
       "94    1.785870\n",
       "95    1.867558\n",
       "96    1.895889\n",
       "97    1.950775\n",
       "98    2.240893\n",
       "99    2.269755\n",
       "Length: 100, dtype: float64"
      ]
     },
     "execution_count": 26,
     "metadata": {},
     "output_type": "execute_result"
    },
    {
     "data": {
      "image/png": "[encoded data removed]",
      "text/plain": [
       "<Figure size 432x288 with 1 Axes>"
      ]
     },
     "metadata": {
      "needs_background": "light"
     },
     "output_type": "display_data"
    }
   ],
   "source": [
    "rng = np.random.seed(0)\n",
    "data = pd.Series(np.random.randn(100)).sort_values().reset_index(drop=True)\n",
    "\n",
    "data.plot()\n",
    "kstest(data, 'norm')\n",
    "data"
   ]
  },
  {
   "cell_type": "code",
   "execution_count": null,
   "metadata": {},
   "outputs": [],
   "source": []
  },
  {
   "cell_type": "code",
   "execution_count": null,
   "metadata": {},
   "outputs": [],
   "source": []
  }
 ],
 "metadata": {
  "kernelspec": {
   "display_name": "Python 3",
   "language": "python",
   "name": "python3"
  },
  "language_info": {
   "codemirror_mode": {
    "name": "ipython",
    "version": 3
   },
   "file_extension": ".py",
   "mimetype": "text/x-python",
   "name": "python",
   "nbconvert_exporter": "python",
   "pygments_lexer": "ipython3",
   "version": "3.7.3"
  },
  "toc": {
   "base_numbering": 1,
   "nav_menu": {},
   "number_sections": true,
   "sideBar": true,
   "skip_h1_title": false,
   "title_cell": "Table of Contents",
   "title_sidebar": "Contents",
   "toc_cell": false,
   "toc_position": {},
   "toc_section_display": true,
   "toc_window_display": false
  }
 },
 "nbformat": 4,
 "nbformat_minor": 2
}
