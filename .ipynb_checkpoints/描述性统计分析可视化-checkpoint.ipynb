{
 "cells": [
  {
   "cell_type": "markdown",
   "metadata": {},
   "source": [
    "### 描述性统计分析可视化"
   ]
  },
  {
   "cell_type": "code",
   "execution_count": 24,
   "metadata": {},
   "outputs": [],
   "source": [
    "import numpy as np\n",
    "import pandas as pd\n",
    "import matplotlib.pyplot as plt\n",
    "from datetime import datetime\n",
    "import random\n",
    "%matplotlib inline"
   ]
  },
  {
   "cell_type": "code",
   "execution_count": 25,
   "metadata": {},
   "outputs": [],
   "source": [
    "plt.rcParams['font.sans-serif']='SimHei' #解决中文乱码问题\n",
    "plt.rcParams['axes.unicode_minus']=False #解决负号无法显示的问题\n",
    "%config InlineBackend.figure_format = 'svg' #将图表设置为svg格式以保证更为清晰的显示"
   ]
  },
  {
   "cell_type": "code",
   "execution_count": 37,
   "metadata": {},
   "outputs": [
    {
     "data": {
      "text/html": [
       "<div>\n",
       "<style scoped>\n",
       "    .dataframe tbody tr th:only-of-type {\n",
       "        vertical-align: middle;\n",
       "    }\n",
       "\n",
       "    .dataframe tbody tr th {\n",
       "        vertical-align: top;\n",
       "    }\n",
       "\n",
       "    .dataframe thead th {\n",
       "        text-align: right;\n",
       "    }\n",
       "</style>\n",
       "<table border=\"1\" class=\"dataframe\">\n",
       "  <thead>\n",
       "    <tr style=\"text-align: right;\">\n",
       "      <th></th>\n",
       "      <th>订单编号</th>\n",
       "      <th>客户ID</th>\n",
       "      <th>客户省份</th>\n",
       "      <th>下单日期</th>\n",
       "      <th>单价</th>\n",
       "      <th>金额</th>\n",
       "    </tr>\n",
       "  </thead>\n",
       "  <tbody>\n",
       "    <tr>\n",
       "      <th>0</th>\n",
       "      <td>SO51522</td>\n",
       "      <td>11000</td>\n",
       "      <td>湖北</td>\n",
       "      <td>2018-06-20</td>\n",
       "      <td>2319.99</td>\n",
       "      <td>2319.99</td>\n",
       "    </tr>\n",
       "    <tr>\n",
       "      <th>1</th>\n",
       "      <td>SO51522</td>\n",
       "      <td>11000</td>\n",
       "      <td>湖北</td>\n",
       "      <td>2018-06-20</td>\n",
       "      <td>21.98</td>\n",
       "      <td>21.98</td>\n",
       "    </tr>\n",
       "    <tr>\n",
       "      <th>2</th>\n",
       "      <td>SO57418</td>\n",
       "      <td>11000</td>\n",
       "      <td>湖北</td>\n",
       "      <td>2018-10-03</td>\n",
       "      <td>2384.07</td>\n",
       "      <td>2384.07</td>\n",
       "    </tr>\n",
       "    <tr>\n",
       "      <th>3</th>\n",
       "      <td>SO57418</td>\n",
       "      <td>11000</td>\n",
       "      <td>湖北</td>\n",
       "      <td>2018-10-03</td>\n",
       "      <td>28.99</td>\n",
       "      <td>28.99</td>\n",
       "    </tr>\n",
       "    <tr>\n",
       "      <th>4</th>\n",
       "      <td>SO57418</td>\n",
       "      <td>11000</td>\n",
       "      <td>湖北</td>\n",
       "      <td>2018-10-03</td>\n",
       "      <td>4.99</td>\n",
       "      <td>4.99</td>\n",
       "    </tr>\n",
       "    <tr>\n",
       "      <th>5</th>\n",
       "      <td>SO57418</td>\n",
       "      <td>11000</td>\n",
       "      <td>湖北</td>\n",
       "      <td>2018-10-03</td>\n",
       "      <td>34.99</td>\n",
       "      <td>34.99</td>\n",
       "    </tr>\n",
       "    <tr>\n",
       "      <th>6</th>\n",
       "      <td>SO57418</td>\n",
       "      <td>11000</td>\n",
       "      <td>湖北</td>\n",
       "      <td>2018-10-03</td>\n",
       "      <td>53.99</td>\n",
       "      <td>53.99</td>\n",
       "    </tr>\n",
       "    <tr>\n",
       "      <th>7</th>\n",
       "      <td>SO51493</td>\n",
       "      <td>11001</td>\n",
       "      <td>甘肃省</td>\n",
       "      <td>2018-06-18</td>\n",
       "      <td>2319.99</td>\n",
       "      <td>2319.99</td>\n",
       "    </tr>\n",
       "    <tr>\n",
       "      <th>8</th>\n",
       "      <td>SO51493</td>\n",
       "      <td>11001</td>\n",
       "      <td>甘肃省</td>\n",
       "      <td>2018-06-18</td>\n",
       "      <td>21.98</td>\n",
       "      <td>21.98</td>\n",
       "    </tr>\n",
       "    <tr>\n",
       "      <th>9</th>\n",
       "      <td>SO51493</td>\n",
       "      <td>11001</td>\n",
       "      <td>甘肃省</td>\n",
       "      <td>2018-06-18</td>\n",
       "      <td>4.99</td>\n",
       "      <td>4.99</td>\n",
       "    </tr>\n",
       "  </tbody>\n",
       "</table>\n",
       "</div>"
      ],
      "text/plain": [
       "      订单编号   客户ID 客户省份       下单日期       单价       金额\n",
       "0  SO51522  11000   湖北 2018-06-20  2319.99  2319.99\n",
       "1  SO51522  11000   湖北 2018-06-20    21.98    21.98\n",
       "2  SO57418  11000   湖北 2018-10-03  2384.07  2384.07\n",
       "3  SO57418  11000   湖北 2018-10-03    28.99    28.99\n",
       "4  SO57418  11000   湖北 2018-10-03     4.99     4.99\n",
       "5  SO57418  11000   湖北 2018-10-03    34.99    34.99\n",
       "6  SO57418  11000   湖北 2018-10-03    53.99    53.99\n",
       "7  SO51493  11001  甘肃省 2018-06-18  2319.99  2319.99\n",
       "8  SO51493  11001  甘肃省 2018-06-18    21.98    21.98\n",
       "9  SO51493  11001  甘肃省 2018-06-18     4.99     4.99"
      ]
     },
     "execution_count": 37,
     "metadata": {},
     "output_type": "execute_result"
    }
   ],
   "source": [
    "df0 = pd.read_excel(r'C:\\Users\\Nikola\\Desktop\\Python\\销售记录.xlsx',usecols=[0,1,4,6,10,11,12,13],encoding='utf8')\n",
    "df0.head(10)"
   ]
  },
  {
   "cell_type": "code",
   "execution_count": 66,
   "metadata": {
    "scrolled": false
   },
   "outputs": [
    {
     "data": {
      "text/html": [
       "<div>\n",
       "<style scoped>\n",
       "    .dataframe tbody tr th:only-of-type {\n",
       "        vertical-align: middle;\n",
       "    }\n",
       "\n",
       "    .dataframe tbody tr th {\n",
       "        vertical-align: top;\n",
       "    }\n",
       "\n",
       "    .dataframe thead th {\n",
       "        text-align: right;\n",
       "    }\n",
       "</style>\n",
       "<table border=\"1\" class=\"dataframe\">\n",
       "  <thead>\n",
       "    <tr style=\"text-align: right;\">\n",
       "      <th></th>\n",
       "      <th>订单编号</th>\n",
       "      <th>客户ID</th>\n",
       "      <th>客户省份</th>\n",
       "      <th>下单日期</th>\n",
       "      <th>单价</th>\n",
       "      <th>金额</th>\n",
       "    </tr>\n",
       "  </thead>\n",
       "  <tbody>\n",
       "    <tr>\n",
       "      <th>0</th>\n",
       "      <td>SO49192</td>\n",
       "      <td>19040</td>\n",
       "      <td>河南</td>\n",
       "      <td>2018-01-02</td>\n",
       "      <td>1000.4375</td>\n",
       "      <td>1000.4375</td>\n",
       "    </tr>\n",
       "    <tr>\n",
       "      <th>1</th>\n",
       "      <td>SO49195</td>\n",
       "      <td>20845</td>\n",
       "      <td>山西</td>\n",
       "      <td>2018-01-02</td>\n",
       "      <td>782.9900</td>\n",
       "      <td>782.9900</td>\n",
       "    </tr>\n",
       "    <tr>\n",
       "      <th>2</th>\n",
       "      <td>SO49194</td>\n",
       "      <td>20922</td>\n",
       "      <td>甘肃省</td>\n",
       "      <td>2018-01-02</td>\n",
       "      <td>782.9900</td>\n",
       "      <td>782.9900</td>\n",
       "    </tr>\n",
       "    <tr>\n",
       "      <th>3</th>\n",
       "      <td>SO49198</td>\n",
       "      <td>26662</td>\n",
       "      <td>西藏</td>\n",
       "      <td>2018-01-02</td>\n",
       "      <td>782.9900</td>\n",
       "      <td>782.9900</td>\n",
       "    </tr>\n",
       "    <tr>\n",
       "      <th>4</th>\n",
       "      <td>SO49196</td>\n",
       "      <td>12386</td>\n",
       "      <td>山西</td>\n",
       "      <td>2018-01-02</td>\n",
       "      <td>2071.4196</td>\n",
       "      <td>2071.4196</td>\n",
       "    </tr>\n",
       "  </tbody>\n",
       "</table>\n",
       "</div>"
      ],
      "text/plain": [
       "      订单编号   客户ID 客户省份       下单日期         单价         金额\n",
       "0  SO49192  19040   河南 2018-01-02  1000.4375  1000.4375\n",
       "1  SO49195  20845   山西 2018-01-02   782.9900   782.9900\n",
       "2  SO49194  20922  甘肃省 2018-01-02   782.9900   782.9900\n",
       "3  SO49198  26662   西藏 2018-01-02   782.9900   782.9900\n",
       "4  SO49196  12386   山西 2018-01-02  2071.4196  2071.4196"
      ]
     },
     "execution_count": 66,
     "metadata": {},
     "output_type": "execute_result"
    }
   ],
   "source": [
    "# 计算2018年销售额,日均销售额，订单均额，客单价额\n",
    "df1 = df0[df0['下单日期']>datetime(2018,1,1)].sort_values(by='下单日期',ascending=True)\n",
    "df1 = df1.reset_index().drop('index',axis=1)\n",
    "df1.head()"
   ]
  },
  {
   "cell_type": "code",
   "execution_count": 70,
   "metadata": {},
   "outputs": [
    {
     "name": "stdout",
     "output_type": "stream",
     "text": [
      "2018年的销售金额： 43899243.2642\n",
      "2018年的日均销售金额： 120271.8993539726\n"
     ]
    }
   ],
   "source": [
    "print(\"2018年的销售金额：\",df1['金额'].sum())\n",
    "print(\"2018年的日均销售金额：\",df1['金额'].sum()/365)"
   ]
  },
  {
   "cell_type": "code",
   "execution_count": 76,
   "metadata": {
    "scrolled": false
   },
   "outputs": [],
   "source": [
    "count1= df1.drop_duplicates(subset=['订单编号'],keep = 'first')['订单编号'].count()"
   ]
  },
  {
   "cell_type": "code",
   "execution_count": 79,
   "metadata": {},
   "outputs": [
    {
     "name": "stdout",
     "output_type": "stream",
     "text": [
      "2018年的客单价: 3098.0411619054344\n"
     ]
    }
   ],
   "source": [
    "print('2018年的客单价:',df1['金额'].sum()/count1)"
   ]
  },
  {
   "cell_type": "code",
   "execution_count": null,
   "metadata": {},
   "outputs": [],
   "source": []
  }
 ],
 "metadata": {
  "kernelspec": {
   "display_name": "Python 3",
   "language": "python",
   "name": "python3"
  },
  "language_info": {
   "codemirror_mode": {
    "name": "ipython",
    "version": 3
   },
   "file_extension": ".py",
   "mimetype": "text/x-python",
   "name": "python",
   "nbconvert_exporter": "python",
   "pygments_lexer": "ipython3",
   "version": "3.7.1"
  },
  "toc": {
   "base_numbering": 1,
   "nav_menu": {},
   "number_sections": true,
   "sideBar": true,
   "skip_h1_title": false,
   "title_cell": "Table of Contents",
   "title_sidebar": "Contents",
   "toc_cell": false,
   "toc_position": {},
   "toc_section_display": true,
   "toc_window_display": false
  }
 },
 "nbformat": 4,
 "nbformat_minor": 2
}
